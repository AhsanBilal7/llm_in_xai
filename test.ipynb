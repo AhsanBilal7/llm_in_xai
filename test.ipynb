{
 "cells": [
  {
   "cell_type": "code",
   "execution_count": null,
   "metadata": {},
   "outputs": [],
   "source": []
  },
  {
   "cell_type": "markdown",
   "metadata": {},
   "source": [
    "Chatgpt Response"
   ]
  },
  {
   "cell_type": "markdown",
   "metadata": {},
   "source": [
    "| Column                                                                | Count | Unique | Top  | Freq | Mean  | Std Dev | Min | 25% | 50% | 75% | Max |\n",
    "|--------------------------------------------------------------         |-------|--------|------|------|-------|---------|-----|-----|-----|-----|-----|\n",
    "| uid                                                                   | 83    | 46     | u00  | 2    | -     | -       | -   | -   | -   | -   | -   |\n",
    "| type                                                                  | 83    | 2      | pre  | 46   | -     | -       | -   | -   | -   | -   | -   |\n",
    "| I lead a purposeful and meaningful life                               | 83    | -      | -    | -    | 5.59  | 1.37    | 1.0 | 5.0 | 6.0 | 7.0 | 7.0 |\n",
    "| My social relationships are supportive and rewarding                  | 83    | -      | -    | -    | 5.31  | 1.53    | 1.0 | 5.0 | 6.0 | 6.0 | 7.0 |\n",
    "| I am engaged and interested in my daily activities                    | 80    | -      | -    | -    | 5.03  | 1.43    | 2.0 | 4.0 | 5.0 | 6.0 | 7.0 |\n",
    "| I actively contribute to the happiness and well-being of others       | 82    | -      | -    | -    | 5.37  | 1.37    | 1.0 | 5.0 | 6.0 | 6.0 | 7.0 |\n",
    "| I am competent and capable in the activities that are important to me | 82    | -      | -    | -    | 5.45  | 1.33    | 2.0 | 5.0 | 6.0 | 6.0 | 7.0 |\n",
    "| I am a good person and live a good life                               | 82    | -      | -    | -    | 5.74  | 1.53    | 1.0 | 5.0 | 6.0 | 7.0 | 7.0 |\n",
    "| I am optimistic about my future                                       | 83    | -      | -    | -    | 5.45  | 1.54    | 1.0 | 5.0 | 6.0 | 7.0 | 7.0 |\n",
    "| People respect me                                                     | 83    | -      | -    | -    | 5.23  | 1.27    | 2.0 | 4.0 | 5.0 | 6.0 | 7.0 |\n"
   ]
  },
  {
   "cell_type": "code",
   "execution_count": null,
   "metadata": {},
   "outputs": [],
   "source": [
    "from datetime import datetime\n",
    "import pytz\n",
    "\n",
    "# Input timestamps in Unix time\n",
    "start_timestamp = 1364425656\n",
    "end_timestamp = 1364425727\n",
    "\n",
    "# Convert Unix timestamps to datetime objects in UTC\n",
    "start_dt_utc = datetime.utcfromtimestamp(start_timestamp)\n",
    "end_dt_utc = datetime.utcfromtimestamp(end_timestamp)\n",
    "\n",
    "# Define the Eastern Time Zone\n",
    "eastern = pytz.timezone('US/Eastern')\n",
    "\n",
    "# Convert UTC datetime objects to Eastern Time Zone\n",
    "start_dt_et = start_dt_utc.replace(tzinfo=pytz.utc).astimezone(eastern)\n",
    "end_dt_et = end_dt_utc.replace(tzinfo=pytz.utc).astimezone(eastern)\n",
    "\n",
    "start_dt_et_str = start_dt_et.strftime('%Y-%m-%d %I:%M:%S %p %Z')\n",
    "end_dt_et_str = end_dt_et.strftime('%Y-%m-%d %I:%M:%S %p %Z')\n",
    "\n",
    "start_dt_et_str, end_dt_et_str\n"
   ]
  }
 ],
 "metadata": {
  "language_info": {
   "name": "python"
  }
 },
 "nbformat": 4,
 "nbformat_minor": 2
}
